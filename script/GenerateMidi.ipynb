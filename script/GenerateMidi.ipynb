{
 "cells": [
  {
   "cell_type": "markdown",
   "metadata": {},
   "source": [
    "## Generate Midi Tracks\n",
    "\n",
    "The following code reads in a given csv and outputs a midi track emulating a 12-bar blues sequence"
   ]
  },
  {
   "cell_type": "code",
   "execution_count": 1,
   "metadata": {
    "collapsed": true
   },
   "outputs": [],
   "source": [
    "from midiutil.MidiFile import MIDIFile\n",
    "import pandas as pd"
   ]
  },
  {
   "cell_type": "code",
   "execution_count": 2,
   "metadata": {
    "collapsed": true
   },
   "outputs": [],
   "source": [
    "def writeMidi(df, out_file):\n",
    "    \n",
    "    # create your MIDI object\n",
    "    mf = MIDIFile(1)     # only 1 track\n",
    "    track = 0   # the only track\n",
    "    channel = 0\n",
    "    volume = 100\n",
    "    time = 0    # start at the beginning\n",
    "    mf.addTrackName(track, time, \"Sample_Track\")\n",
    "    mf.addTempo(track, time, 240)\n",
    "\n",
    "    curr_time = 0\n",
    "    for index, row in df.iterrows():\n",
    "        if row['mpitch'] == 0:\n",
    "            curr_time += row['mval']\n",
    "            continue\n",
    "        mf.addNote(track, channel, row['mpitch'], curr_time, row['mval'], volume)\n",
    "        curr_time += row['mval']\n",
    "\n",
    "    with open(\"../generated_melodies/midi/\" + out_file, 'wb') as outf:\n",
    "        mf.writeFile(outf)"
   ]
  },
  {
   "cell_type": "code",
   "execution_count": 12,
   "metadata": {
    "collapsed": true
   },
   "outputs": [],
   "source": [
    "df = pd.read_csv(\"../generated_melodies/csv/test.csv\")\n",
    "writeMidi(df, \"test.midi\")"
   ]
  },
  {
   "cell_type": "code",
   "execution_count": 13,
   "metadata": {
    "collapsed": true
   },
   "outputs": [],
   "source": [
    "df = pd.read_csv(\"../generated_melodies/csv/test2.csv\")\n",
    "writeMidi(df, \"test2.midi\")"
   ]
  },
  {
   "cell_type": "code",
   "execution_count": 9,
   "metadata": {
    "collapsed": true
   },
   "outputs": [],
   "source": [
    "df = pd.read_csv(\"../generated_melodies/csv/approach1.csv\")\n",
    "writeMidi(df, \"approach1.midi\")"
   ]
  },
  {
   "cell_type": "code",
   "execution_count": 10,
   "metadata": {
    "collapsed": true
   },
   "outputs": [],
   "source": [
    "df = pd.read_csv(\"../generated_melodies/csv/approach2_nrep.csv\")\n",
    "writeMidi(df, \"approach2_nrep.midi\")"
   ]
  },
  {
   "cell_type": "code",
   "execution_count": 11,
   "metadata": {
    "collapsed": true
   },
   "outputs": [],
   "source": [
    "df = pd.read_csv(\"../generated_melodies/csv/approach2_rep.csv\")\n",
    "writeMidi(df, \"approach2_rep.midi\")"
   ]
  },
  {
   "cell_type": "code",
   "execution_count": 3,
   "metadata": {
    "collapsed": true
   },
   "outputs": [],
   "source": [
    "df = pd.read_csv(\"../generated_melodies/csv/approach2_rep_MORE.csv\")\n",
    "writeMidi(df, \"approach2_rep_MORE.midi\")"
   ]
  },
  {
   "cell_type": "code",
   "execution_count": 4,
   "metadata": {
    "collapsed": true
   },
   "outputs": [],
   "source": [
    "df = pd.read_csv(\"../generated_melodies/csv/approach2_nrep_MAX.csv\")\n",
    "writeMidi(df, \"approach2_nrep_MAX.midi\")"
   ]
  },
  {
   "cell_type": "code",
   "execution_count": null,
   "metadata": {
    "collapsed": true
   },
   "outputs": [],
   "source": [
    "df = pd.read_csv(\"../generated_melodies/csv/approach2_rep_MAX.csv\")\n",
    "writeMidi(df, \"approach2_rep_MAX.midi\")"
   ]
  },
  {
   "cell_type": "code",
   "execution_count": null,
   "metadata": {
    "collapsed": true
   },
   "outputs": [],
   "source": []
  }
 ],
 "metadata": {
  "kernelspec": {
   "display_name": "Python [default]",
   "language": "python",
   "name": "python2"
  },
  "language_info": {
   "codemirror_mode": {
    "name": "ipython",
    "version": 2
   },
   "file_extension": ".py",
   "mimetype": "text/x-python",
   "name": "python",
   "nbconvert_exporter": "python",
   "pygments_lexer": "ipython2",
   "version": "2.7.13"
  }
 },
 "nbformat": 4,
 "nbformat_minor": 2
}
